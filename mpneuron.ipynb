{
  "nbformat": 4,
  "nbformat_minor": 0,
  "metadata": {
    "colab": {
      "name": "mpneuron.ipynb",
      "version": "0.3.2",
      "provenance": [],
      "include_colab_link": true
    },
    "kernelspec": {
      "name": "python3",
      "display_name": "Python 3"
    }
  },
  "cells": [
    {
      "cell_type": "markdown",
      "metadata": {
        "id": "view-in-github",
        "colab_type": "text"
      },
      "source": [
        "<a href=\"https://colab.research.google.com/github/adamsmax/MP-Neuron-/blob/master/mpneuron.ipynb\" target=\"_parent\"><img src=\"https://colab.research.google.com/assets/colab-badge.svg\" alt=\"Open In Colab\"/></a>"
      ]
    },
    {
      "cell_type": "markdown",
      "metadata": {
        "id": "GH1HLO3WIfgM",
        "colab_type": "text"
      },
      "source": [
        "#Loading Dataset"
      ]
    },
    {
      "cell_type": "code",
      "metadata": {
        "id": "v1glqUlSFLuM",
        "colab_type": "code",
        "colab": {}
      },
      "source": [
        "import sklearn.datasets\n",
        "import numpy as np"
      ],
      "execution_count": 0,
      "outputs": []
    },
    {
      "cell_type": "code",
      "metadata": {
        "id": "ZaCJ7RVuFyKk",
        "colab_type": "code",
        "colab": {}
      },
      "source": [
        "breast_cancer=sklearn.datasets.load_breast_cancer()"
      ],
      "execution_count": 0,
      "outputs": []
    },
    {
      "cell_type": "code",
      "metadata": {
        "id": "8KPs6EbSJKlY",
        "colab_type": "code",
        "outputId": "f61a60b2-cfb2-4b06-9ed7-3817434010ba",
        "colab": {
          "base_uri": "https://localhost:8080/",
          "height": 35
        }
      },
      "source": [
        "type(breast_cancer)"
      ],
      "execution_count": 0,
      "outputs": [
        {
          "output_type": "execute_result",
          "data": {
            "text/plain": [
              "sklearn.utils.Bunch"
            ]
          },
          "metadata": {
            "tags": []
          },
          "execution_count": 108
        }
      ]
    },
    {
      "cell_type": "code",
      "metadata": {
        "id": "BHzNKz1JF8qq",
        "colab_type": "code",
        "colab": {}
      },
      "source": [
        "X=breast_cancer.data\n",
        "Y=breast_cancer.target"
      ],
      "execution_count": 0,
      "outputs": []
    },
    {
      "cell_type": "code",
      "metadata": {
        "id": "TiX8Q0FYJRDC",
        "colab_type": "code",
        "outputId": "bc565e8f-9ecb-4271-b198-e50a4cbd4fb2",
        "colab": {
          "base_uri": "https://localhost:8080/",
          "height": 35
        }
      },
      "source": [
        "type(X)"
      ],
      "execution_count": 0,
      "outputs": [
        {
          "output_type": "execute_result",
          "data": {
            "text/plain": [
              "numpy.ndarray"
            ]
          },
          "metadata": {
            "tags": []
          },
          "execution_count": 110
        }
      ]
    },
    {
      "cell_type": "code",
      "metadata": {
        "id": "kBSGoFqSGPJs",
        "colab_type": "code",
        "outputId": "99f135a0-2303-4bb4-eead-6e929445bdd1",
        "colab": {
          "base_uri": "https://localhost:8080/",
          "height": 421
        }
      },
      "source": [
        "print(X)\n",
        "print(Y)"
      ],
      "execution_count": 0,
      "outputs": [
        {
          "output_type": "stream",
          "text": [
            "[[1.799e+01 1.038e+01 1.228e+02 ... 2.654e-01 4.601e-01 1.189e-01]\n",
            " [2.057e+01 1.777e+01 1.329e+02 ... 1.860e-01 2.750e-01 8.902e-02]\n",
            " [1.969e+01 2.125e+01 1.300e+02 ... 2.430e-01 3.613e-01 8.758e-02]\n",
            " ...\n",
            " [1.660e+01 2.808e+01 1.083e+02 ... 1.418e-01 2.218e-01 7.820e-02]\n",
            " [2.060e+01 2.933e+01 1.401e+02 ... 2.650e-01 4.087e-01 1.240e-01]\n",
            " [7.760e+00 2.454e+01 4.792e+01 ... 0.000e+00 2.871e-01 7.039e-02]]\n",
            "[0 0 0 0 0 0 0 0 0 0 0 0 0 0 0 0 0 0 0 1 1 1 0 0 0 0 0 0 0 0 0 0 0 0 0 0 0\n",
            " 1 0 0 0 0 0 0 0 0 1 0 1 1 1 1 1 0 0 1 0 0 1 1 1 1 0 1 0 0 1 1 1 1 0 1 0 0\n",
            " 1 0 1 0 0 1 1 1 0 0 1 0 0 0 1 1 1 0 1 1 0 0 1 1 1 0 0 1 1 1 1 0 1 1 0 1 1\n",
            " 1 1 1 1 1 1 0 0 0 1 0 0 1 1 1 0 0 1 0 1 0 0 1 0 0 1 1 0 1 1 0 1 1 1 1 0 1\n",
            " 1 1 1 1 1 1 1 1 0 1 1 1 1 0 0 1 0 1 1 0 0 1 1 0 0 1 1 1 1 0 1 1 0 0 0 1 0\n",
            " 1 0 1 1 1 0 1 1 0 0 1 0 0 0 0 1 0 0 0 1 0 1 0 1 1 0 1 0 0 0 0 1 1 0 0 1 1\n",
            " 1 0 1 1 1 1 1 0 0 1 1 0 1 1 0 0 1 0 1 1 1 1 0 1 1 1 1 1 0 1 0 0 0 0 0 0 0\n",
            " 0 0 0 0 0 0 0 1 1 1 1 1 1 0 1 0 1 1 0 1 1 0 1 0 0 1 1 1 1 1 1 1 1 1 1 1 1\n",
            " 1 0 1 1 0 1 0 1 1 1 1 1 1 1 1 1 1 1 1 1 1 0 1 1 1 0 1 0 1 1 1 1 0 0 0 1 1\n",
            " 1 1 0 1 0 1 0 1 1 1 0 1 1 1 1 1 1 1 0 0 0 1 1 1 1 1 1 1 1 1 1 1 0 0 1 0 0\n",
            " 0 1 0 0 1 1 1 1 1 0 1 1 1 1 1 0 1 1 1 0 1 1 0 0 1 1 1 1 1 1 0 1 1 1 1 1 1\n",
            " 1 0 1 1 1 1 1 0 1 1 0 1 1 1 1 1 1 1 1 1 1 1 1 0 1 0 0 1 0 1 1 1 1 1 0 1 1\n",
            " 0 1 0 1 1 0 1 0 1 1 1 1 1 1 1 1 0 0 1 1 1 1 1 1 0 1 1 1 1 1 1 1 1 1 1 0 1\n",
            " 1 1 1 1 1 1 0 1 0 1 1 0 1 1 1 1 1 0 0 1 0 1 0 1 1 1 1 1 0 1 1 0 1 0 1 0 0\n",
            " 1 1 1 0 1 1 1 1 1 1 1 1 1 1 1 0 1 0 0 1 1 1 1 1 1 1 1 1 1 1 1 1 1 1 1 1 1\n",
            " 1 1 1 1 1 1 1 0 0 0 0 0 0 1]\n"
          ],
          "name": "stdout"
        }
      ]
    },
    {
      "cell_type": "code",
      "metadata": {
        "id": "iQJ0WnuRGXtF",
        "colab_type": "code",
        "outputId": "f3b1be72-03e6-43ee-85f1-33d1cfd10382",
        "colab": {
          "base_uri": "https://localhost:8080/",
          "height": 35
        }
      },
      "source": [
        "print(X.shape,Y.shape)"
      ],
      "execution_count": 0,
      "outputs": [
        {
          "output_type": "stream",
          "text": [
            "(569, 30) (569,)\n"
          ],
          "name": "stdout"
        }
      ]
    },
    {
      "cell_type": "code",
      "metadata": {
        "id": "UY89mGv1Gp62",
        "colab_type": "code",
        "colab": {}
      },
      "source": [
        "import pandas as pd"
      ],
      "execution_count": 0,
      "outputs": []
    },
    {
      "cell_type": "code",
      "metadata": {
        "id": "wCUjIwD4GtG1",
        "colab_type": "code",
        "colab": {}
      },
      "source": [
        "data=pd.DataFrame(breast_cancer.data,columns=breast_cancer.feature_names)"
      ],
      "execution_count": 0,
      "outputs": []
    },
    {
      "cell_type": "code",
      "metadata": {
        "id": "LU-sIR6oHLKs",
        "colab_type": "code",
        "colab": {}
      },
      "source": [
        "data['class']=breast_cancer.target"
      ],
      "execution_count": 0,
      "outputs": []
    },
    {
      "cell_type": "code",
      "metadata": {
        "id": "VV3Ge0YdHUiz",
        "colab_type": "code",
        "outputId": "41cc5bde-ad3f-47f5-aac4-ae2fdd2f6467",
        "colab": {
          "base_uri": "https://localhost:8080/",
          "height": 294
        }
      },
      "source": [
        "data.head()"
      ],
      "execution_count": 0,
      "outputs": [
        {
          "output_type": "execute_result",
          "data": {
            "text/html": [
              "<div>\n",
              "<style scoped>\n",
              "    .dataframe tbody tr th:only-of-type {\n",
              "        vertical-align: middle;\n",
              "    }\n",
              "\n",
              "    .dataframe tbody tr th {\n",
              "        vertical-align: top;\n",
              "    }\n",
              "\n",
              "    .dataframe thead th {\n",
              "        text-align: right;\n",
              "    }\n",
              "</style>\n",
              "<table border=\"1\" class=\"dataframe\">\n",
              "  <thead>\n",
              "    <tr style=\"text-align: right;\">\n",
              "      <th></th>\n",
              "      <th>mean radius</th>\n",
              "      <th>mean texture</th>\n",
              "      <th>mean perimeter</th>\n",
              "      <th>mean area</th>\n",
              "      <th>mean smoothness</th>\n",
              "      <th>mean compactness</th>\n",
              "      <th>mean concavity</th>\n",
              "      <th>mean concave points</th>\n",
              "      <th>mean symmetry</th>\n",
              "      <th>mean fractal dimension</th>\n",
              "      <th>...</th>\n",
              "      <th>worst texture</th>\n",
              "      <th>worst perimeter</th>\n",
              "      <th>worst area</th>\n",
              "      <th>worst smoothness</th>\n",
              "      <th>worst compactness</th>\n",
              "      <th>worst concavity</th>\n",
              "      <th>worst concave points</th>\n",
              "      <th>worst symmetry</th>\n",
              "      <th>worst fractal dimension</th>\n",
              "      <th>class</th>\n",
              "    </tr>\n",
              "  </thead>\n",
              "  <tbody>\n",
              "    <tr>\n",
              "      <th>0</th>\n",
              "      <td>17.99</td>\n",
              "      <td>10.38</td>\n",
              "      <td>122.80</td>\n",
              "      <td>1001.0</td>\n",
              "      <td>0.11840</td>\n",
              "      <td>0.27760</td>\n",
              "      <td>0.3001</td>\n",
              "      <td>0.14710</td>\n",
              "      <td>0.2419</td>\n",
              "      <td>0.07871</td>\n",
              "      <td>...</td>\n",
              "      <td>17.33</td>\n",
              "      <td>184.60</td>\n",
              "      <td>2019.0</td>\n",
              "      <td>0.1622</td>\n",
              "      <td>0.6656</td>\n",
              "      <td>0.7119</td>\n",
              "      <td>0.2654</td>\n",
              "      <td>0.4601</td>\n",
              "      <td>0.11890</td>\n",
              "      <td>0</td>\n",
              "    </tr>\n",
              "    <tr>\n",
              "      <th>1</th>\n",
              "      <td>20.57</td>\n",
              "      <td>17.77</td>\n",
              "      <td>132.90</td>\n",
              "      <td>1326.0</td>\n",
              "      <td>0.08474</td>\n",
              "      <td>0.07864</td>\n",
              "      <td>0.0869</td>\n",
              "      <td>0.07017</td>\n",
              "      <td>0.1812</td>\n",
              "      <td>0.05667</td>\n",
              "      <td>...</td>\n",
              "      <td>23.41</td>\n",
              "      <td>158.80</td>\n",
              "      <td>1956.0</td>\n",
              "      <td>0.1238</td>\n",
              "      <td>0.1866</td>\n",
              "      <td>0.2416</td>\n",
              "      <td>0.1860</td>\n",
              "      <td>0.2750</td>\n",
              "      <td>0.08902</td>\n",
              "      <td>0</td>\n",
              "    </tr>\n",
              "    <tr>\n",
              "      <th>2</th>\n",
              "      <td>19.69</td>\n",
              "      <td>21.25</td>\n",
              "      <td>130.00</td>\n",
              "      <td>1203.0</td>\n",
              "      <td>0.10960</td>\n",
              "      <td>0.15990</td>\n",
              "      <td>0.1974</td>\n",
              "      <td>0.12790</td>\n",
              "      <td>0.2069</td>\n",
              "      <td>0.05999</td>\n",
              "      <td>...</td>\n",
              "      <td>25.53</td>\n",
              "      <td>152.50</td>\n",
              "      <td>1709.0</td>\n",
              "      <td>0.1444</td>\n",
              "      <td>0.4245</td>\n",
              "      <td>0.4504</td>\n",
              "      <td>0.2430</td>\n",
              "      <td>0.3613</td>\n",
              "      <td>0.08758</td>\n",
              "      <td>0</td>\n",
              "    </tr>\n",
              "    <tr>\n",
              "      <th>3</th>\n",
              "      <td>11.42</td>\n",
              "      <td>20.38</td>\n",
              "      <td>77.58</td>\n",
              "      <td>386.1</td>\n",
              "      <td>0.14250</td>\n",
              "      <td>0.28390</td>\n",
              "      <td>0.2414</td>\n",
              "      <td>0.10520</td>\n",
              "      <td>0.2597</td>\n",
              "      <td>0.09744</td>\n",
              "      <td>...</td>\n",
              "      <td>26.50</td>\n",
              "      <td>98.87</td>\n",
              "      <td>567.7</td>\n",
              "      <td>0.2098</td>\n",
              "      <td>0.8663</td>\n",
              "      <td>0.6869</td>\n",
              "      <td>0.2575</td>\n",
              "      <td>0.6638</td>\n",
              "      <td>0.17300</td>\n",
              "      <td>0</td>\n",
              "    </tr>\n",
              "    <tr>\n",
              "      <th>4</th>\n",
              "      <td>20.29</td>\n",
              "      <td>14.34</td>\n",
              "      <td>135.10</td>\n",
              "      <td>1297.0</td>\n",
              "      <td>0.10030</td>\n",
              "      <td>0.13280</td>\n",
              "      <td>0.1980</td>\n",
              "      <td>0.10430</td>\n",
              "      <td>0.1809</td>\n",
              "      <td>0.05883</td>\n",
              "      <td>...</td>\n",
              "      <td>16.67</td>\n",
              "      <td>152.20</td>\n",
              "      <td>1575.0</td>\n",
              "      <td>0.1374</td>\n",
              "      <td>0.2050</td>\n",
              "      <td>0.4000</td>\n",
              "      <td>0.1625</td>\n",
              "      <td>0.2364</td>\n",
              "      <td>0.07678</td>\n",
              "      <td>0</td>\n",
              "    </tr>\n",
              "  </tbody>\n",
              "</table>\n",
              "<p>5 rows × 31 columns</p>\n",
              "</div>"
            ],
            "text/plain": [
              "   mean radius  mean texture  mean perimeter  mean area  mean smoothness  \\\n",
              "0        17.99         10.38          122.80     1001.0          0.11840   \n",
              "1        20.57         17.77          132.90     1326.0          0.08474   \n",
              "2        19.69         21.25          130.00     1203.0          0.10960   \n",
              "3        11.42         20.38           77.58      386.1          0.14250   \n",
              "4        20.29         14.34          135.10     1297.0          0.10030   \n",
              "\n",
              "   mean compactness  mean concavity  mean concave points  mean symmetry  \\\n",
              "0           0.27760          0.3001              0.14710         0.2419   \n",
              "1           0.07864          0.0869              0.07017         0.1812   \n",
              "2           0.15990          0.1974              0.12790         0.2069   \n",
              "3           0.28390          0.2414              0.10520         0.2597   \n",
              "4           0.13280          0.1980              0.10430         0.1809   \n",
              "\n",
              "   mean fractal dimension  ...    worst texture  worst perimeter  worst area  \\\n",
              "0                 0.07871  ...            17.33           184.60      2019.0   \n",
              "1                 0.05667  ...            23.41           158.80      1956.0   \n",
              "2                 0.05999  ...            25.53           152.50      1709.0   \n",
              "3                 0.09744  ...            26.50            98.87       567.7   \n",
              "4                 0.05883  ...            16.67           152.20      1575.0   \n",
              "\n",
              "   worst smoothness  worst compactness  worst concavity  worst concave points  \\\n",
              "0            0.1622             0.6656           0.7119                0.2654   \n",
              "1            0.1238             0.1866           0.2416                0.1860   \n",
              "2            0.1444             0.4245           0.4504                0.2430   \n",
              "3            0.2098             0.8663           0.6869                0.2575   \n",
              "4            0.1374             0.2050           0.4000                0.1625   \n",
              "\n",
              "   worst symmetry  worst fractal dimension  class  \n",
              "0          0.4601                  0.11890      0  \n",
              "1          0.2750                  0.08902      0  \n",
              "2          0.3613                  0.08758      0  \n",
              "3          0.6638                  0.17300      0  \n",
              "4          0.2364                  0.07678      0  \n",
              "\n",
              "[5 rows x 31 columns]"
            ]
          },
          "metadata": {
            "tags": []
          },
          "execution_count": 116
        }
      ]
    },
    {
      "cell_type": "code",
      "metadata": {
        "id": "770UTyl3Hekp",
        "colab_type": "code",
        "outputId": "3aae44a3-1d76-4f87-bcc8-5c58fb909d98",
        "colab": {
          "base_uri": "https://localhost:8080/",
          "height": 389
        }
      },
      "source": [
        "data.describe()"
      ],
      "execution_count": 0,
      "outputs": [
        {
          "output_type": "execute_result",
          "data": {
            "text/html": [
              "<div>\n",
              "<style scoped>\n",
              "    .dataframe tbody tr th:only-of-type {\n",
              "        vertical-align: middle;\n",
              "    }\n",
              "\n",
              "    .dataframe tbody tr th {\n",
              "        vertical-align: top;\n",
              "    }\n",
              "\n",
              "    .dataframe thead th {\n",
              "        text-align: right;\n",
              "    }\n",
              "</style>\n",
              "<table border=\"1\" class=\"dataframe\">\n",
              "  <thead>\n",
              "    <tr style=\"text-align: right;\">\n",
              "      <th></th>\n",
              "      <th>mean radius</th>\n",
              "      <th>mean texture</th>\n",
              "      <th>mean perimeter</th>\n",
              "      <th>mean area</th>\n",
              "      <th>mean smoothness</th>\n",
              "      <th>mean compactness</th>\n",
              "      <th>mean concavity</th>\n",
              "      <th>mean concave points</th>\n",
              "      <th>mean symmetry</th>\n",
              "      <th>mean fractal dimension</th>\n",
              "      <th>...</th>\n",
              "      <th>worst texture</th>\n",
              "      <th>worst perimeter</th>\n",
              "      <th>worst area</th>\n",
              "      <th>worst smoothness</th>\n",
              "      <th>worst compactness</th>\n",
              "      <th>worst concavity</th>\n",
              "      <th>worst concave points</th>\n",
              "      <th>worst symmetry</th>\n",
              "      <th>worst fractal dimension</th>\n",
              "      <th>class</th>\n",
              "    </tr>\n",
              "  </thead>\n",
              "  <tbody>\n",
              "    <tr>\n",
              "      <th>count</th>\n",
              "      <td>569.000000</td>\n",
              "      <td>569.000000</td>\n",
              "      <td>569.000000</td>\n",
              "      <td>569.000000</td>\n",
              "      <td>569.000000</td>\n",
              "      <td>569.000000</td>\n",
              "      <td>569.000000</td>\n",
              "      <td>569.000000</td>\n",
              "      <td>569.000000</td>\n",
              "      <td>569.000000</td>\n",
              "      <td>...</td>\n",
              "      <td>569.000000</td>\n",
              "      <td>569.000000</td>\n",
              "      <td>569.000000</td>\n",
              "      <td>569.000000</td>\n",
              "      <td>569.000000</td>\n",
              "      <td>569.000000</td>\n",
              "      <td>569.000000</td>\n",
              "      <td>569.000000</td>\n",
              "      <td>569.000000</td>\n",
              "      <td>569.000000</td>\n",
              "    </tr>\n",
              "    <tr>\n",
              "      <th>mean</th>\n",
              "      <td>14.127292</td>\n",
              "      <td>19.289649</td>\n",
              "      <td>91.969033</td>\n",
              "      <td>654.889104</td>\n",
              "      <td>0.096360</td>\n",
              "      <td>0.104341</td>\n",
              "      <td>0.088799</td>\n",
              "      <td>0.048919</td>\n",
              "      <td>0.181162</td>\n",
              "      <td>0.062798</td>\n",
              "      <td>...</td>\n",
              "      <td>25.677223</td>\n",
              "      <td>107.261213</td>\n",
              "      <td>880.583128</td>\n",
              "      <td>0.132369</td>\n",
              "      <td>0.254265</td>\n",
              "      <td>0.272188</td>\n",
              "      <td>0.114606</td>\n",
              "      <td>0.290076</td>\n",
              "      <td>0.083946</td>\n",
              "      <td>0.627417</td>\n",
              "    </tr>\n",
              "    <tr>\n",
              "      <th>std</th>\n",
              "      <td>3.524049</td>\n",
              "      <td>4.301036</td>\n",
              "      <td>24.298981</td>\n",
              "      <td>351.914129</td>\n",
              "      <td>0.014064</td>\n",
              "      <td>0.052813</td>\n",
              "      <td>0.079720</td>\n",
              "      <td>0.038803</td>\n",
              "      <td>0.027414</td>\n",
              "      <td>0.007060</td>\n",
              "      <td>...</td>\n",
              "      <td>6.146258</td>\n",
              "      <td>33.602542</td>\n",
              "      <td>569.356993</td>\n",
              "      <td>0.022832</td>\n",
              "      <td>0.157336</td>\n",
              "      <td>0.208624</td>\n",
              "      <td>0.065732</td>\n",
              "      <td>0.061867</td>\n",
              "      <td>0.018061</td>\n",
              "      <td>0.483918</td>\n",
              "    </tr>\n",
              "    <tr>\n",
              "      <th>min</th>\n",
              "      <td>6.981000</td>\n",
              "      <td>9.710000</td>\n",
              "      <td>43.790000</td>\n",
              "      <td>143.500000</td>\n",
              "      <td>0.052630</td>\n",
              "      <td>0.019380</td>\n",
              "      <td>0.000000</td>\n",
              "      <td>0.000000</td>\n",
              "      <td>0.106000</td>\n",
              "      <td>0.049960</td>\n",
              "      <td>...</td>\n",
              "      <td>12.020000</td>\n",
              "      <td>50.410000</td>\n",
              "      <td>185.200000</td>\n",
              "      <td>0.071170</td>\n",
              "      <td>0.027290</td>\n",
              "      <td>0.000000</td>\n",
              "      <td>0.000000</td>\n",
              "      <td>0.156500</td>\n",
              "      <td>0.055040</td>\n",
              "      <td>0.000000</td>\n",
              "    </tr>\n",
              "    <tr>\n",
              "      <th>25%</th>\n",
              "      <td>11.700000</td>\n",
              "      <td>16.170000</td>\n",
              "      <td>75.170000</td>\n",
              "      <td>420.300000</td>\n",
              "      <td>0.086370</td>\n",
              "      <td>0.064920</td>\n",
              "      <td>0.029560</td>\n",
              "      <td>0.020310</td>\n",
              "      <td>0.161900</td>\n",
              "      <td>0.057700</td>\n",
              "      <td>...</td>\n",
              "      <td>21.080000</td>\n",
              "      <td>84.110000</td>\n",
              "      <td>515.300000</td>\n",
              "      <td>0.116600</td>\n",
              "      <td>0.147200</td>\n",
              "      <td>0.114500</td>\n",
              "      <td>0.064930</td>\n",
              "      <td>0.250400</td>\n",
              "      <td>0.071460</td>\n",
              "      <td>0.000000</td>\n",
              "    </tr>\n",
              "    <tr>\n",
              "      <th>50%</th>\n",
              "      <td>13.370000</td>\n",
              "      <td>18.840000</td>\n",
              "      <td>86.240000</td>\n",
              "      <td>551.100000</td>\n",
              "      <td>0.095870</td>\n",
              "      <td>0.092630</td>\n",
              "      <td>0.061540</td>\n",
              "      <td>0.033500</td>\n",
              "      <td>0.179200</td>\n",
              "      <td>0.061540</td>\n",
              "      <td>...</td>\n",
              "      <td>25.410000</td>\n",
              "      <td>97.660000</td>\n",
              "      <td>686.500000</td>\n",
              "      <td>0.131300</td>\n",
              "      <td>0.211900</td>\n",
              "      <td>0.226700</td>\n",
              "      <td>0.099930</td>\n",
              "      <td>0.282200</td>\n",
              "      <td>0.080040</td>\n",
              "      <td>1.000000</td>\n",
              "    </tr>\n",
              "    <tr>\n",
              "      <th>75%</th>\n",
              "      <td>15.780000</td>\n",
              "      <td>21.800000</td>\n",
              "      <td>104.100000</td>\n",
              "      <td>782.700000</td>\n",
              "      <td>0.105300</td>\n",
              "      <td>0.130400</td>\n",
              "      <td>0.130700</td>\n",
              "      <td>0.074000</td>\n",
              "      <td>0.195700</td>\n",
              "      <td>0.066120</td>\n",
              "      <td>...</td>\n",
              "      <td>29.720000</td>\n",
              "      <td>125.400000</td>\n",
              "      <td>1084.000000</td>\n",
              "      <td>0.146000</td>\n",
              "      <td>0.339100</td>\n",
              "      <td>0.382900</td>\n",
              "      <td>0.161400</td>\n",
              "      <td>0.317900</td>\n",
              "      <td>0.092080</td>\n",
              "      <td>1.000000</td>\n",
              "    </tr>\n",
              "    <tr>\n",
              "      <th>max</th>\n",
              "      <td>28.110000</td>\n",
              "      <td>39.280000</td>\n",
              "      <td>188.500000</td>\n",
              "      <td>2501.000000</td>\n",
              "      <td>0.163400</td>\n",
              "      <td>0.345400</td>\n",
              "      <td>0.426800</td>\n",
              "      <td>0.201200</td>\n",
              "      <td>0.304000</td>\n",
              "      <td>0.097440</td>\n",
              "      <td>...</td>\n",
              "      <td>49.540000</td>\n",
              "      <td>251.200000</td>\n",
              "      <td>4254.000000</td>\n",
              "      <td>0.222600</td>\n",
              "      <td>1.058000</td>\n",
              "      <td>1.252000</td>\n",
              "      <td>0.291000</td>\n",
              "      <td>0.663800</td>\n",
              "      <td>0.207500</td>\n",
              "      <td>1.000000</td>\n",
              "    </tr>\n",
              "  </tbody>\n",
              "</table>\n",
              "<p>8 rows × 31 columns</p>\n",
              "</div>"
            ],
            "text/plain": [
              "       mean radius  mean texture  mean perimeter    mean area  \\\n",
              "count   569.000000    569.000000      569.000000   569.000000   \n",
              "mean     14.127292     19.289649       91.969033   654.889104   \n",
              "std       3.524049      4.301036       24.298981   351.914129   \n",
              "min       6.981000      9.710000       43.790000   143.500000   \n",
              "25%      11.700000     16.170000       75.170000   420.300000   \n",
              "50%      13.370000     18.840000       86.240000   551.100000   \n",
              "75%      15.780000     21.800000      104.100000   782.700000   \n",
              "max      28.110000     39.280000      188.500000  2501.000000   \n",
              "\n",
              "       mean smoothness  mean compactness  mean concavity  mean concave points  \\\n",
              "count       569.000000        569.000000      569.000000           569.000000   \n",
              "mean          0.096360          0.104341        0.088799             0.048919   \n",
              "std           0.014064          0.052813        0.079720             0.038803   \n",
              "min           0.052630          0.019380        0.000000             0.000000   \n",
              "25%           0.086370          0.064920        0.029560             0.020310   \n",
              "50%           0.095870          0.092630        0.061540             0.033500   \n",
              "75%           0.105300          0.130400        0.130700             0.074000   \n",
              "max           0.163400          0.345400        0.426800             0.201200   \n",
              "\n",
              "       mean symmetry  mean fractal dimension     ...      worst texture  \\\n",
              "count     569.000000              569.000000     ...         569.000000   \n",
              "mean        0.181162                0.062798     ...          25.677223   \n",
              "std         0.027414                0.007060     ...           6.146258   \n",
              "min         0.106000                0.049960     ...          12.020000   \n",
              "25%         0.161900                0.057700     ...          21.080000   \n",
              "50%         0.179200                0.061540     ...          25.410000   \n",
              "75%         0.195700                0.066120     ...          29.720000   \n",
              "max         0.304000                0.097440     ...          49.540000   \n",
              "\n",
              "       worst perimeter   worst area  worst smoothness  worst compactness  \\\n",
              "count       569.000000   569.000000        569.000000         569.000000   \n",
              "mean        107.261213   880.583128          0.132369           0.254265   \n",
              "std          33.602542   569.356993          0.022832           0.157336   \n",
              "min          50.410000   185.200000          0.071170           0.027290   \n",
              "25%          84.110000   515.300000          0.116600           0.147200   \n",
              "50%          97.660000   686.500000          0.131300           0.211900   \n",
              "75%         125.400000  1084.000000          0.146000           0.339100   \n",
              "max         251.200000  4254.000000          0.222600           1.058000   \n",
              "\n",
              "       worst concavity  worst concave points  worst symmetry  \\\n",
              "count       569.000000            569.000000      569.000000   \n",
              "mean          0.272188              0.114606        0.290076   \n",
              "std           0.208624              0.065732        0.061867   \n",
              "min           0.000000              0.000000        0.156500   \n",
              "25%           0.114500              0.064930        0.250400   \n",
              "50%           0.226700              0.099930        0.282200   \n",
              "75%           0.382900              0.161400        0.317900   \n",
              "max           1.252000              0.291000        0.663800   \n",
              "\n",
              "       worst fractal dimension       class  \n",
              "count               569.000000  569.000000  \n",
              "mean                  0.083946    0.627417  \n",
              "std                   0.018061    0.483918  \n",
              "min                   0.055040    0.000000  \n",
              "25%                   0.071460    0.000000  \n",
              "50%                   0.080040    1.000000  \n",
              "75%                   0.092080    1.000000  \n",
              "max                   0.207500    1.000000  \n",
              "\n",
              "[8 rows x 31 columns]"
            ]
          },
          "metadata": {
            "tags": []
          },
          "execution_count": 117
        }
      ]
    },
    {
      "cell_type": "code",
      "metadata": {
        "id": "OCPVNNvlHiL9",
        "colab_type": "code",
        "outputId": "17c7b259-acf2-4d09-b47a-4ca5d0e9f823",
        "colab": {
          "base_uri": "https://localhost:8080/",
          "height": 70
        }
      },
      "source": [
        "print(data['class'].value_counts())"
      ],
      "execution_count": 0,
      "outputs": [
        {
          "output_type": "stream",
          "text": [
            "1    357\n",
            "0    212\n",
            "Name: class, dtype: int64\n"
          ],
          "name": "stdout"
        }
      ]
    },
    {
      "cell_type": "code",
      "metadata": {
        "id": "N6J048ZoH0JJ",
        "colab_type": "code",
        "outputId": "96c28356-63a6-4c2f-d455-5837108006ac",
        "colab": {
          "base_uri": "https://localhost:8080/",
          "height": 35
        }
      },
      "source": [
        "print(breast_cancer.target_names)"
      ],
      "execution_count": 0,
      "outputs": [
        {
          "output_type": "stream",
          "text": [
            "['malignant' 'benign']\n"
          ],
          "name": "stdout"
        }
      ]
    },
    {
      "cell_type": "code",
      "metadata": {
        "id": "7REW7MfrINTV",
        "colab_type": "code",
        "outputId": "2e9d06cb-bf11-4447-98b7-094774793c19",
        "colab": {
          "base_uri": "https://localhost:8080/",
          "height": 232
        }
      },
      "source": [
        "data.groupby('class').mean()"
      ],
      "execution_count": 0,
      "outputs": [
        {
          "output_type": "execute_result",
          "data": {
            "text/html": [
              "<div>\n",
              "<style scoped>\n",
              "    .dataframe tbody tr th:only-of-type {\n",
              "        vertical-align: middle;\n",
              "    }\n",
              "\n",
              "    .dataframe tbody tr th {\n",
              "        vertical-align: top;\n",
              "    }\n",
              "\n",
              "    .dataframe thead th {\n",
              "        text-align: right;\n",
              "    }\n",
              "</style>\n",
              "<table border=\"1\" class=\"dataframe\">\n",
              "  <thead>\n",
              "    <tr style=\"text-align: right;\">\n",
              "      <th></th>\n",
              "      <th>mean radius</th>\n",
              "      <th>mean texture</th>\n",
              "      <th>mean perimeter</th>\n",
              "      <th>mean area</th>\n",
              "      <th>mean smoothness</th>\n",
              "      <th>mean compactness</th>\n",
              "      <th>mean concavity</th>\n",
              "      <th>mean concave points</th>\n",
              "      <th>mean symmetry</th>\n",
              "      <th>mean fractal dimension</th>\n",
              "      <th>...</th>\n",
              "      <th>worst radius</th>\n",
              "      <th>worst texture</th>\n",
              "      <th>worst perimeter</th>\n",
              "      <th>worst area</th>\n",
              "      <th>worst smoothness</th>\n",
              "      <th>worst compactness</th>\n",
              "      <th>worst concavity</th>\n",
              "      <th>worst concave points</th>\n",
              "      <th>worst symmetry</th>\n",
              "      <th>worst fractal dimension</th>\n",
              "    </tr>\n",
              "    <tr>\n",
              "      <th>class</th>\n",
              "      <th></th>\n",
              "      <th></th>\n",
              "      <th></th>\n",
              "      <th></th>\n",
              "      <th></th>\n",
              "      <th></th>\n",
              "      <th></th>\n",
              "      <th></th>\n",
              "      <th></th>\n",
              "      <th></th>\n",
              "      <th></th>\n",
              "      <th></th>\n",
              "      <th></th>\n",
              "      <th></th>\n",
              "      <th></th>\n",
              "      <th></th>\n",
              "      <th></th>\n",
              "      <th></th>\n",
              "      <th></th>\n",
              "      <th></th>\n",
              "      <th></th>\n",
              "    </tr>\n",
              "  </thead>\n",
              "  <tbody>\n",
              "    <tr>\n",
              "      <th>0</th>\n",
              "      <td>17.462830</td>\n",
              "      <td>21.604906</td>\n",
              "      <td>115.365377</td>\n",
              "      <td>978.376415</td>\n",
              "      <td>0.102898</td>\n",
              "      <td>0.145188</td>\n",
              "      <td>0.160775</td>\n",
              "      <td>0.087990</td>\n",
              "      <td>0.192909</td>\n",
              "      <td>0.062680</td>\n",
              "      <td>...</td>\n",
              "      <td>21.134811</td>\n",
              "      <td>29.318208</td>\n",
              "      <td>141.370330</td>\n",
              "      <td>1422.286321</td>\n",
              "      <td>0.144845</td>\n",
              "      <td>0.374824</td>\n",
              "      <td>0.450606</td>\n",
              "      <td>0.182237</td>\n",
              "      <td>0.323468</td>\n",
              "      <td>0.091530</td>\n",
              "    </tr>\n",
              "    <tr>\n",
              "      <th>1</th>\n",
              "      <td>12.146524</td>\n",
              "      <td>17.914762</td>\n",
              "      <td>78.075406</td>\n",
              "      <td>462.790196</td>\n",
              "      <td>0.092478</td>\n",
              "      <td>0.080085</td>\n",
              "      <td>0.046058</td>\n",
              "      <td>0.025717</td>\n",
              "      <td>0.174186</td>\n",
              "      <td>0.062867</td>\n",
              "      <td>...</td>\n",
              "      <td>13.379801</td>\n",
              "      <td>23.515070</td>\n",
              "      <td>87.005938</td>\n",
              "      <td>558.899440</td>\n",
              "      <td>0.124959</td>\n",
              "      <td>0.182673</td>\n",
              "      <td>0.166238</td>\n",
              "      <td>0.074444</td>\n",
              "      <td>0.270246</td>\n",
              "      <td>0.079442</td>\n",
              "    </tr>\n",
              "  </tbody>\n",
              "</table>\n",
              "<p>2 rows × 30 columns</p>\n",
              "</div>"
            ],
            "text/plain": [
              "       mean radius  mean texture  mean perimeter   mean area  mean smoothness  \\\n",
              "class                                                                           \n",
              "0        17.462830     21.604906      115.365377  978.376415         0.102898   \n",
              "1        12.146524     17.914762       78.075406  462.790196         0.092478   \n",
              "\n",
              "       mean compactness  mean concavity  mean concave points  mean symmetry  \\\n",
              "class                                                                         \n",
              "0              0.145188        0.160775             0.087990       0.192909   \n",
              "1              0.080085        0.046058             0.025717       0.174186   \n",
              "\n",
              "       mean fractal dimension           ...             worst radius  \\\n",
              "class                                   ...                            \n",
              "0                    0.062680           ...                21.134811   \n",
              "1                    0.062867           ...                13.379801   \n",
              "\n",
              "       worst texture  worst perimeter   worst area  worst smoothness  \\\n",
              "class                                                                  \n",
              "0          29.318208       141.370330  1422.286321          0.144845   \n",
              "1          23.515070        87.005938   558.899440          0.124959   \n",
              "\n",
              "       worst compactness  worst concavity  worst concave points  \\\n",
              "class                                                             \n",
              "0               0.374824         0.450606              0.182237   \n",
              "1               0.182673         0.166238              0.074444   \n",
              "\n",
              "       worst symmetry  worst fractal dimension  \n",
              "class                                           \n",
              "0            0.323468                 0.091530  \n",
              "1            0.270246                 0.079442  \n",
              "\n",
              "[2 rows x 30 columns]"
            ]
          },
          "metadata": {
            "tags": []
          },
          "execution_count": 120
        }
      ]
    },
    {
      "cell_type": "markdown",
      "metadata": {
        "id": "QcpPdmNrInJb",
        "colab_type": "text"
      },
      "source": [
        "#Test Train split"
      ]
    },
    {
      "cell_type": "code",
      "metadata": {
        "id": "UjjI2mTHITaU",
        "colab_type": "code",
        "colab": {}
      },
      "source": [
        "from sklearn.model_selection import train_test_split"
      ],
      "execution_count": 0,
      "outputs": []
    },
    {
      "cell_type": "code",
      "metadata": {
        "id": "aW8qLAg_Jqrc",
        "colab_type": "code",
        "colab": {}
      },
      "source": [
        "X=data.drop('class',axis=1)\n",
        "Y=data['class']"
      ],
      "execution_count": 0,
      "outputs": []
    },
    {
      "cell_type": "code",
      "metadata": {
        "id": "X1faCtV2J5cE",
        "colab_type": "code",
        "outputId": "389daf26-251a-40db-d5c4-2d1f2fe48bab",
        "colab": {
          "base_uri": "https://localhost:8080/"
        }
      },
      "source": [
        "type(X)"
      ],
      "execution_count": 0,
      "outputs": [
        {
          "output_type": "execute_result",
          "data": {
            "text/plain": [
              "pandas.core.frame.DataFrame"
            ]
          },
          "metadata": {
            "tags": []
          },
          "execution_count": 123
        }
      ]
    },
    {
      "cell_type": "code",
      "metadata": {
        "id": "cVIKypIpWxe4",
        "colab_type": "code",
        "outputId": "57071ab2-f686-43c8-d18f-401fe40e64ae",
        "colab": {
          "base_uri": "https://localhost:8080/"
        }
      },
      "source": [
        "type(Y)"
      ],
      "execution_count": 0,
      "outputs": [
        {
          "output_type": "execute_result",
          "data": {
            "text/plain": [
              "pandas.core.series.Series"
            ]
          },
          "metadata": {
            "tags": []
          },
          "execution_count": 124
        }
      ]
    },
    {
      "cell_type": "code",
      "metadata": {
        "id": "UNcJyfaZKPo-",
        "colab_type": "code",
        "colab": {}
      },
      "source": [
        "X_train,X_test,Y_train,Y_test=train_test_split(X,Y)"
      ],
      "execution_count": 0,
      "outputs": []
    },
    {
      "cell_type": "code",
      "metadata": {
        "id": "HYJw6G7IKd6T",
        "colab_type": "code",
        "outputId": "ec3be422-67f4-48e2-b7dd-f9bb95c9d95d",
        "colab": {
          "base_uri": "https://localhost:8080/"
        }
      },
      "source": [
        "print(X.shape,X_train.shape,X_test.shape)"
      ],
      "execution_count": 0,
      "outputs": [
        {
          "output_type": "stream",
          "text": [
            "(569, 30) (426, 30) (143, 30)\n"
          ],
          "name": "stdout"
        }
      ]
    },
    {
      "cell_type": "code",
      "metadata": {
        "id": "CgOgewwxK1Kh",
        "colab_type": "code",
        "colab": {}
      },
      "source": [
        "X_train,X_test,Y_train,Y_test=train_test_split(X,Y,test_size=0.1)"
      ],
      "execution_count": 0,
      "outputs": []
    },
    {
      "cell_type": "code",
      "metadata": {
        "id": "PYCFwJ42LLqJ",
        "colab_type": "code",
        "outputId": "cd58a3d2-b20d-4b7e-85b0-b2cad8077cd3",
        "colab": {
          "base_uri": "https://localhost:8080/"
        }
      },
      "source": [
        "print(Y.mean(),Y_train.mean(),Y_test.mean())"
      ],
      "execution_count": 0,
      "outputs": [
        {
          "output_type": "stream",
          "text": [
            "0.6274165202108963 0.626953125 0.631578947368421\n"
          ],
          "name": "stdout"
        }
      ]
    },
    {
      "cell_type": "code",
      "metadata": {
        "id": "WdqgW6hKLp0I",
        "colab_type": "code",
        "colab": {}
      },
      "source": [
        "X_train,X_test,Y_train,Y_test=train_test_split(X,Y,test_size=0.1,stratify=Y)"
      ],
      "execution_count": 0,
      "outputs": []
    },
    {
      "cell_type": "code",
      "metadata": {
        "id": "lZ3taIUSMaAD",
        "colab_type": "code",
        "outputId": "107a2372-251d-4953-ec63-65528c7c4c79",
        "colab": {
          "base_uri": "https://localhost:8080/"
        }
      },
      "source": [
        "print(X_train.mean(),X_test.mean(),X.mean())"
      ],
      "execution_count": 0,
      "outputs": [
        {
          "output_type": "stream",
          "text": [
            "mean radius                 14.159088\n",
            "mean texture                19.293906\n",
            "mean perimeter              92.195742\n",
            "mean area                  658.077930\n",
            "mean smoothness              0.096452\n",
            "mean compactness             0.104469\n",
            "mean concavity               0.089394\n",
            "mean concave points          0.049289\n",
            "mean symmetry                0.181210\n",
            "mean fractal dimension       0.062748\n",
            "radius error                 0.405828\n",
            "texture error                1.212394\n",
            "perimeter error              2.883004\n",
            "area error                  40.395387\n",
            "smoothness error             0.007082\n",
            "compactness error            0.025314\n",
            "concavity error              0.031940\n",
            "concave points error         0.011868\n",
            "symmetry error               0.020587\n",
            "fractal dimension error      0.003785\n",
            "worst radius                16.280240\n",
            "worst texture               25.598770\n",
            "worst perimeter            107.399668\n",
            "worst area                 881.253906\n",
            "worst smoothness             0.132237\n",
            "worst compactness            0.251609\n",
            "worst concavity              0.270100\n",
            "worst concave points         0.114442\n",
            "worst symmetry               0.289333\n",
            "worst fractal dimension      0.083437\n",
            "dtype: float64 mean radius                 13.841684\n",
            "mean texture                19.251404\n",
            "mean perimeter              89.932632\n",
            "mean area                  626.245614\n",
            "mean smoothness              0.095541\n",
            "mean compactness             0.103194\n",
            "mean concavity               0.083453\n",
            "mean concave points          0.045594\n",
            "mean symmetry                0.180728\n",
            "mean fractal dimension       0.063241\n",
            "radius error                 0.399284\n",
            "texture error                1.256907\n",
            "perimeter error              2.713851\n",
            "area error                  39.813333\n",
            "smoothness error             0.006673\n",
            "compactness error            0.026951\n",
            "concavity error              0.031478\n",
            "concave points error         0.011152\n",
            "symmetry error               0.020145\n",
            "fractal dimension error      0.003886\n",
            "worst radius                16.169930\n",
            "worst texture               26.381930\n",
            "worst perimeter            106.017544\n",
            "worst area                 874.557895\n",
            "worst smoothness             0.133552\n",
            "worst compactness            0.278123\n",
            "worst concavity              0.290948\n",
            "worst concave points         0.116079\n",
            "worst symmetry               0.296746\n",
            "worst fractal dimension      0.088518\n",
            "dtype: float64 mean radius                 14.127292\n",
            "mean texture                19.289649\n",
            "mean perimeter              91.969033\n",
            "mean area                  654.889104\n",
            "mean smoothness              0.096360\n",
            "mean compactness             0.104341\n",
            "mean concavity               0.088799\n",
            "mean concave points          0.048919\n",
            "mean symmetry                0.181162\n",
            "mean fractal dimension       0.062798\n",
            "radius error                 0.405172\n",
            "texture error                1.216853\n",
            "perimeter error              2.866059\n",
            "area error                  40.337079\n",
            "smoothness error             0.007041\n",
            "compactness error            0.025478\n",
            "concavity error              0.031894\n",
            "concave points error         0.011796\n",
            "symmetry error               0.020542\n",
            "fractal dimension error      0.003795\n",
            "worst radius                16.269190\n",
            "worst texture               25.677223\n",
            "worst perimeter            107.261213\n",
            "worst area                 880.583128\n",
            "worst smoothness             0.132369\n",
            "worst compactness            0.254265\n",
            "worst concavity              0.272188\n",
            "worst concave points         0.114606\n",
            "worst symmetry               0.290076\n",
            "worst fractal dimension      0.083946\n",
            "dtype: float64\n"
          ],
          "name": "stdout"
        }
      ]
    },
    {
      "cell_type": "code",
      "metadata": {
        "id": "1gYrqkrZM4RR",
        "colab_type": "code",
        "colab": {}
      },
      "source": [
        "X_train,X_test,Y_train,Y_test=train_test_split(X,Y,test_size=0.1,stratify=Y,random_state=1)"
      ],
      "execution_count": 0,
      "outputs": []
    },
    {
      "cell_type": "markdown",
      "metadata": {
        "id": "LxSK9gwTNTM_",
        "colab_type": "text"
      },
      "source": [
        "#Binarization of the input"
      ]
    },
    {
      "cell_type": "code",
      "metadata": {
        "id": "wqgBVLMNNWnq",
        "colab_type": "code",
        "colab": {}
      },
      "source": [
        "import matplotlib.pyplot as plt"
      ],
      "execution_count": 0,
      "outputs": []
    },
    {
      "cell_type": "code",
      "metadata": {
        "id": "Tqii_QyfNiyR",
        "colab_type": "code",
        "outputId": "9af95709-fb06-4109-b4a0-ca1dcf12890d",
        "colab": {
          "base_uri": "https://localhost:8080/"
        }
      },
      "source": [
        "type(X_train)"
      ],
      "execution_count": 0,
      "outputs": [
        {
          "output_type": "execute_result",
          "data": {
            "text/plain": [
              "pandas.core.frame.DataFrame"
            ]
          },
          "metadata": {
            "tags": []
          },
          "execution_count": 133
        }
      ]
    },
    {
      "cell_type": "code",
      "metadata": {
        "id": "moTc_uj3NWzU",
        "colab_type": "code",
        "outputId": "976e2f49-6c99-4b0f-c24e-5e0056f853dc",
        "colab": {
          "base_uri": "https://localhost:8080/"
        }
      },
      "source": [
        "plt.plot(X_train,'*')\n",
        "plt.show()"
      ],
      "execution_count": 0,
      "outputs": [
        {
          "output_type": "display_data",
          "data": {
            "image/png": "[encoded data removed]",
            "text/plain": [
              "<Figure size 576x396 with 1 Axes>"
            ]
          },
          "metadata": {
            "tags": []
          }
        }
      ]
    },
    {
      "cell_type": "code",
      "metadata": {
        "id": "yJuBHiCbNwDZ",
        "colab_type": "code",
        "outputId": "c2d2d7ba-2439-4ad9-9bdb-097d4e64ef60",
        "colab": {
          "base_uri": "https://localhost:8080/"
        }
      },
      "source": [
        "plt.plot(X_train.T,'*')\n",
        "plt.xticks(rotation='vertical')\n",
        "plt.show()"
      ],
      "execution_count": 0,
      "outputs": [
        {
          "output_type": "display_data",
          "data": {
            "image/png": "[encoded data removed]",
            "text/plain": [
              "<Figure size 576x396 with 1 Axes>"
            ]
          },
          "metadata": {
            "tags": []
          }
        }
      ]
    },
    {
      "cell_type": "code",
      "metadata": {
        "id": "SD4GYJhVOcAA",
        "colab_type": "code",
        "colab": {}
      },
      "source": [
        "X_binarised_3_train=X_train['mean area'].map(lambda x:0 if x<1000 else 1)"
      ],
      "execution_count": 0,
      "outputs": []
    },
    {
      "cell_type": "code",
      "metadata": {
        "id": "SPjP45SVbEsi",
        "colab_type": "code",
        "outputId": "e7d62d06-86ba-405d-e1ff-1b836e7b8eeb",
        "colab": {
          "base_uri": "https://localhost:8080/"
        }
      },
      "source": [
        "type(X_binarised_3_train)"
      ],
      "execution_count": 0,
      "outputs": [
        {
          "output_type": "execute_result",
          "data": {
            "text/plain": [
              "pandas.core.series.Series"
            ]
          },
          "metadata": {
            "tags": []
          },
          "execution_count": 137
        }
      ]
    },
    {
      "cell_type": "code",
      "metadata": {
        "id": "CXRpIewTbXF-",
        "colab_type": "code",
        "colab": {}
      },
      "source": [
        ""
      ],
      "execution_count": 0,
      "outputs": []
    },
    {
      "cell_type": "code",
      "metadata": {
        "id": "f3F32SFHLuJs",
        "colab_type": "code",
        "outputId": "b78105e8-f46b-4c6b-adbe-53d37b2ed6d4",
        "colab": {
          "base_uri": "https://localhost:8080/"
        }
      },
      "source": [
        "print(X_train)"
      ],
      "execution_count": 0,
      "outputs": [
        {
          "output_type": "stream",
          "text": [
            "     mean radius  mean texture  mean perimeter  mean area  mean smoothness  \\\n",
            "430       14.900         22.53          102.10      685.0          0.09947   \n",
            "48        12.050         14.63           78.04      449.3          0.10310   \n",
            "105       13.110         15.56           87.21      530.2          0.13980   \n",
            "467        9.668         18.10           61.06      286.3          0.08311   \n",
            "547       10.260         16.58           65.85      320.8          0.08877   \n",
            "365       20.440         21.78          133.80     1293.0          0.09150   \n",
            "295       13.770         13.27           88.06      582.7          0.09198   \n",
            "567       20.600         29.33          140.10     1265.0          0.11780   \n",
            "297       11.760         18.14           75.00      431.1          0.09968   \n",
            "172       15.460         11.89          102.50      736.9          0.12570   \n",
            "506       12.220         20.04           79.47      453.1          0.10960   \n",
            "488       11.680         16.17           75.49      420.5          0.11280   \n",
            "115       11.930         21.53           76.53      438.6          0.09768   \n",
            "466       13.140         20.74           85.98      536.9          0.08675   \n",
            "218       19.800         21.56          129.70     1230.0          0.09383   \n",
            "74        12.310         16.52           79.19      470.9          0.09172   \n",
            "461       27.420         26.27          186.90     2501.0          0.10840   \n",
            "484       15.730         11.28          102.80      747.2          0.10430   \n",
            "79        12.860         18.00           83.19      506.3          0.09934   \n",
            "226       10.440         15.46           66.62      329.6          0.10530   \n",
            "37        13.030         18.42           82.61      523.8          0.08983   \n",
            "44        13.170         21.81           85.42      531.5          0.09714   \n",
            "324       12.200         15.21           78.01      457.9          0.08673   \n",
            "13        15.850         23.95          103.70      782.7          0.08401   \n",
            "277       18.810         19.98          120.90     1102.0          0.08923   \n",
            "134       18.450         21.91          120.20     1075.0          0.09430   \n",
            "83        19.100         26.29          129.10     1132.0          0.12150   \n",
            "153       11.150         13.08           70.87      381.9          0.09754   \n",
            "327       12.030         17.93           76.09      446.0          0.07683   \n",
            "68         9.029         17.33           58.79      250.5          0.10660   \n",
            "..           ...           ...             ...        ...              ...   \n",
            "486       14.640         16.85           94.21      666.0          0.08641   \n",
            "207       17.010         20.26          109.70      904.3          0.08772   \n",
            "357       13.870         16.21           88.52      593.7          0.08743   \n",
            "409       12.270         17.92           78.41      466.1          0.08685   \n",
            "211       11.840         18.94           75.51      428.0          0.08871   \n",
            "289       11.370         18.89           72.17      396.0          0.08713   \n",
            "11        15.780         17.89          103.60      781.0          0.09710   \n",
            "53        18.220         18.70          120.30     1033.0          0.11480   \n",
            "86        14.480         21.46           94.25      648.2          0.09444   \n",
            "266       10.600         18.95           69.28      346.4          0.09688   \n",
            "398       11.060         14.83           70.31      378.2          0.07741   \n",
            "77        18.050         16.15          120.20     1006.0          0.10650   \n",
            "125       13.850         17.21           88.44      588.7          0.08785   \n",
            "537       11.690         24.44           76.37      406.4          0.12360   \n",
            "532       13.680         16.33           87.76      575.5          0.09277   \n",
            "472       14.920         14.93           96.45      686.9          0.08098   \n",
            "259       15.530         33.56          103.70      744.9          0.10630   \n",
            "227       15.000         15.51           97.45      684.5          0.08371   \n",
            "476       14.200         20.53           92.41      618.4          0.08931   \n",
            "453       14.530         13.98           93.86      644.2          0.10990   \n",
            "33        19.270         26.47          127.90     1162.0          0.09401   \n",
            "65        14.780         23.94           97.40      668.3          0.11720   \n",
            "188       11.810         17.39           75.27      428.9          0.10070   \n",
            "479       16.250         19.51          109.80      815.8          0.10260   \n",
            "509       15.460         23.95          103.80      731.3          0.11830   \n",
            "201       17.540         19.32          115.10      951.6          0.08968   \n",
            "183       11.410         14.92           73.53      402.0          0.09059   \n",
            "285       12.580         18.40           79.83      489.0          0.08393   \n",
            "49        13.490         22.30           86.91      561.0          0.08752   \n",
            "161       19.190         15.94          126.30     1157.0          0.08694   \n",
            "\n",
            "     mean compactness  mean concavity  mean concave points  mean symmetry  \\\n",
            "430           0.22250        0.273300             0.097110         0.2041   \n",
            "48            0.09092        0.065920             0.027490         0.1675   \n",
            "105           0.17650        0.207100             0.096010         0.1925   \n",
            "467           0.05428        0.014790             0.005769         0.1680   \n",
            "547           0.08066        0.043580             0.024380         0.1669   \n",
            "365           0.11310        0.097990             0.077850         0.1618   \n",
            "295           0.06221        0.010630             0.019170         0.1592   \n",
            "567           0.27700        0.351400             0.152000         0.2397   \n",
            "297           0.05914        0.026850             0.035150         0.1619   \n",
            "172           0.15550        0.203200             0.109700         0.1966   \n",
            "506           0.11520        0.081750             0.021660         0.2124   \n",
            "488           0.09263        0.042790             0.031320         0.1853   \n",
            "115           0.07849        0.033280             0.020080         0.1688   \n",
            "466           0.10890        0.108500             0.035100         0.1562   \n",
            "218           0.13060        0.127200             0.086910         0.2094   \n",
            "74            0.06829        0.033720             0.022720         0.1720   \n",
            "461           0.19880        0.363500             0.168900         0.2061   \n",
            "484           0.12990        0.119100             0.062110         0.1784   \n",
            "79            0.09546        0.038890             0.023150         0.1718   \n",
            "226           0.07722        0.006643             0.012160         0.1788   \n",
            "37            0.03766        0.025620             0.029230         0.1467   \n",
            "44            0.10470        0.082590             0.052520         0.1746   \n",
            "324           0.06545        0.019940             0.016920         0.1638   \n",
            "13            0.10020        0.099380             0.053640         0.1847   \n",
            "277           0.05884        0.080200             0.058430         0.1550   \n",
            "134           0.09709        0.115300             0.068470         0.1692   \n",
            "83            0.17910        0.193700             0.146900         0.1634   \n",
            "153           0.05113        0.019820             0.017860         0.1830   \n",
            "327           0.03892        0.001546             0.005592         0.1382   \n",
            "68            0.14130        0.313000             0.043750         0.2111   \n",
            "..                ...             ...                  ...            ...   \n",
            "486           0.06698        0.051920             0.027910         0.1409   \n",
            "207           0.07304        0.069500             0.053900         0.2026   \n",
            "357           0.05492        0.015020             0.020880         0.1424   \n",
            "409           0.06526        0.032110             0.026530         0.1966   \n",
            "211           0.06900        0.026690             0.013930         0.1533   \n",
            "289           0.05008        0.023990             0.021730         0.2013   \n",
            "11            0.12920        0.099540             0.066060         0.1842   \n",
            "53            0.14850        0.177200             0.106000         0.2092   \n",
            "86            0.09947        0.120400             0.049380         0.2075   \n",
            "266           0.11470        0.063870             0.026420         0.1922   \n",
            "398           0.04768        0.027120             0.007246         0.1535   \n",
            "77            0.21460        0.168400             0.108000         0.2152   \n",
            "125           0.06136        0.014200             0.011410         0.1614   \n",
            "537           0.15520        0.045150             0.045310         0.2131   \n",
            "532           0.07255        0.017520             0.018800         0.1631   \n",
            "472           0.08549        0.055390             0.032210         0.1687   \n",
            "259           0.16390        0.175100             0.083990         0.2091   \n",
            "227           0.10960        0.065050             0.037800         0.1881   \n",
            "476           0.11080        0.050630             0.030580         0.1506   \n",
            "453           0.09242        0.068950             0.064950         0.1650   \n",
            "33            0.17190        0.165700             0.075930         0.1853   \n",
            "65            0.14790        0.126700             0.090290         0.1953   \n",
            "188           0.05562        0.023530             0.015530         0.1718   \n",
            "479           0.18930        0.223600             0.091940         0.2151   \n",
            "509           0.18700        0.203000             0.085200         0.1807   \n",
            "201           0.11980        0.103600             0.074880         0.1506   \n",
            "183           0.08155        0.061810             0.023610         0.1167   \n",
            "285           0.04216        0.001860             0.002924         0.1697   \n",
            "49            0.07698        0.047510             0.033840         0.1809   \n",
            "161           0.11850        0.119300             0.096670         0.1741   \n",
            "\n",
            "     mean fractal dimension           ...             worst radius  \\\n",
            "430                 0.06898           ...                    16.35   \n",
            "48                  0.06043           ...                    13.76   \n",
            "105                 0.07692           ...                    16.31   \n",
            "467                 0.06412           ...                    11.15   \n",
            "547                 0.06714           ...                    10.83   \n",
            "365                 0.05557           ...                    24.31   \n",
            "295                 0.05912           ...                    14.67   \n",
            "567                 0.07016           ...                    25.74   \n",
            "297                 0.06287           ...                    13.36   \n",
            "172                 0.07069           ...                    18.79   \n",
            "506                 0.06894           ...                    13.16   \n",
            "488                 0.06401           ...                    13.32   \n",
            "115                 0.06194           ...                    13.67   \n",
            "466                 0.06020           ...                    14.80   \n",
            "218                 0.05581           ...                    25.73   \n",
            "74                  0.05914           ...                    14.11   \n",
            "461                 0.05623           ...                    36.04   \n",
            "484                 0.06259           ...                    17.01   \n",
            "79                  0.05997           ...                    14.24   \n",
            "226                 0.06450           ...                    11.52   \n",
            "37                  0.05863           ...                    13.30   \n",
            "44                  0.06177           ...                    16.23   \n",
            "324                 0.06129           ...                    13.75   \n",
            "13                  0.05338           ...                    16.84   \n",
            "277                 0.04996           ...                    19.96   \n",
            "134                 0.05727           ...                    22.52   \n",
            "83                  0.07224           ...                    20.33   \n",
            "153                 0.06105           ...                    11.99   \n",
            "327                 0.06070           ...                    13.07   \n",
            "68                  0.08046           ...                    10.31   \n",
            "..                      ...           ...                      ...   \n",
            "486                 0.05355           ...                    16.46   \n",
            "207                 0.05223           ...                    19.80   \n",
            "357                 0.05883           ...                    15.11   \n",
            "409                 0.05597           ...                    14.10   \n",
            "211                 0.06057           ...                    13.30   \n",
            "289                 0.05955           ...                    12.36   \n",
            "11                  0.06082           ...                    20.42   \n",
            "53                  0.06310           ...                    20.60   \n",
            "86                  0.05636           ...                    16.21   \n",
            "266                 0.06491           ...                    11.88   \n",
            "398                 0.06214           ...                    12.68   \n",
            "77                  0.06673           ...                    22.39   \n",
            "125                 0.05890           ...                    15.49   \n",
            "537                 0.07405           ...                    12.98   \n",
            "532                 0.06155           ...                    15.85   \n",
            "472                 0.05669           ...                    17.18   \n",
            "259                 0.06650           ...                    18.49   \n",
            "227                 0.05907           ...                    16.41   \n",
            "476                 0.06009           ...                    16.45   \n",
            "453                 0.06121           ...                    15.80   \n",
            "33                  0.06261           ...                    24.15   \n",
            "65                  0.06654           ...                    17.31   \n",
            "188                 0.05780           ...                    12.57   \n",
            "479                 0.06578           ...                    17.39   \n",
            "509                 0.07083           ...                    17.11   \n",
            "201                 0.05491           ...                    20.42   \n",
            "183                 0.06217           ...                    12.37   \n",
            "285                 0.05855           ...                    13.50   \n",
            "49                  0.05718           ...                    15.15   \n",
            "161                 0.05176           ...                    22.03   \n",
            "\n",
            "     worst texture  worst perimeter  worst area  worst smoothness  \\\n",
            "430          27.57           125.40       832.7           0.14190   \n",
            "48           20.70            89.88       582.6           0.14940   \n",
            "105          22.40           106.40       827.2           0.18620   \n",
            "467          24.62            71.11       380.2           0.13880   \n",
            "547          22.04            71.08       357.4           0.14610   \n",
            "365          26.37           161.20      1780.0           0.13270   \n",
            "295          16.93            94.17       661.1           0.11700   \n",
            "567          39.42           184.60      1821.0           0.16500   \n",
            "297          23.39            85.10       553.6           0.11370   \n",
            "172          17.04           125.00      1102.0           0.15310   \n",
            "506          24.17            85.13       515.3           0.14020   \n",
            "488          21.59            86.57       549.8           0.15260   \n",
            "115          26.15            87.54       583.0           0.15000   \n",
            "466          25.46           100.90       689.1           0.13510   \n",
            "218          28.64           170.30      2009.0           0.13530   \n",
            "74           23.21            89.71       611.1           0.11760   \n",
            "461          31.37           251.20      4254.0           0.13570   \n",
            "484          14.20           112.50       854.3           0.15410   \n",
            "79           24.82            91.88       622.1           0.12890   \n",
            "226          19.80            73.47       395.4           0.13410   \n",
            "37           22.81            84.46       545.9           0.09701   \n",
            "44           29.89           105.50       740.7           0.15030   \n",
            "324          21.38            91.11       583.1           0.12560   \n",
            "13           27.66           112.00       876.5           0.11310   \n",
            "277          24.30           129.00      1236.0           0.12430   \n",
            "134          31.39           145.60      1590.0           0.14650   \n",
            "83           32.72           141.30      1298.0           0.13920   \n",
            "153          16.30            76.25       440.8           0.13410   \n",
            "327          22.25            82.74       523.4           0.10130   \n",
            "68           22.65            65.50       324.7           0.14820   \n",
            "..             ...              ...         ...               ...   \n",
            "486          25.44           106.00       831.0           0.11420   \n",
            "207          25.05           130.00      1210.0           0.11110   \n",
            "357          25.58            96.74       694.4           0.11530   \n",
            "409          28.88            89.00       610.2           0.12400   \n",
            "211          24.99            85.22       546.3           0.12800   \n",
            "289          26.14            79.29       459.3           0.11180   \n",
            "11           27.28           136.50      1299.0           0.13960   \n",
            "53           24.13           135.10      1321.0           0.12800   \n",
            "86           29.25           108.40       808.9           0.13060   \n",
            "266          22.94            78.28       424.8           0.12130   \n",
            "398          20.35            80.79       496.7           0.11200   \n",
            "77           18.91           150.10      1610.0           0.14780   \n",
            "125          23.58           100.30       725.9           0.11570   \n",
            "537          32.19            86.12       487.7           0.17680   \n",
            "532          20.20           101.60       773.4           0.12640   \n",
            "472          18.22           112.00       906.6           0.10650   \n",
            "259          49.54           126.30      1035.0           0.18830   \n",
            "227          19.31           114.20       808.2           0.11360   \n",
            "476          27.26           112.10       828.5           0.11530   \n",
            "453          16.93           103.10       749.9           0.13470   \n",
            "33           30.90           161.40      1813.0           0.15090   \n",
            "65           33.39           114.60       925.1           0.16480   \n",
            "188          26.48            79.57       489.5           0.13560   \n",
            "479          23.05           122.10       939.7           0.13770   \n",
            "509          36.33           117.70       909.4           0.17320   \n",
            "201          25.84           139.50      1239.0           0.13810   \n",
            "183          17.70            79.12       467.2           0.11210   \n",
            "285          23.08            85.56       564.1           0.10380   \n",
            "49           31.82            99.00       698.8           0.11620   \n",
            "161          17.81           146.60      1495.0           0.11240   \n",
            "\n",
            "     worst compactness  worst concavity  worst concave points  worst symmetry  \\\n",
            "430            0.70900         0.901900              0.247500          0.2866   \n",
            "48             0.21560         0.305000              0.065480          0.2747   \n",
            "105            0.40990         0.637600              0.198600          0.3147   \n",
            "467            0.12550         0.064090              0.025000          0.3057   \n",
            "547            0.22460         0.178300              0.083330          0.2691   \n",
            "365            0.23760         0.270200              0.176500          0.2609   \n",
            "295            0.10720         0.037320              0.058020          0.2823   \n",
            "567            0.86810         0.938700              0.265000          0.4087   \n",
            "297            0.07974         0.061200              0.071600          0.1978   \n",
            "172            0.35830         0.583000              0.182700          0.3216   \n",
            "506            0.23150         0.353500              0.080880          0.2709   \n",
            "488            0.14770         0.149000              0.098150          0.2804   \n",
            "115            0.23990         0.150300              0.072470          0.2438   \n",
            "466            0.35490         0.450400              0.118100          0.2563   \n",
            "218            0.32350         0.361700              0.182000          0.3070   \n",
            "74             0.18430         0.170300              0.086600          0.2618   \n",
            "461            0.42560         0.683300              0.262500          0.2641   \n",
            "484            0.29790         0.400400              0.145200          0.2557   \n",
            "79             0.21410         0.173100              0.079260          0.2779   \n",
            "226            0.11530         0.026390              0.044640          0.2615   \n",
            "37             0.04619         0.048330              0.050130          0.1987   \n",
            "44             0.39040         0.372800              0.160700          0.3693   \n",
            "324            0.19280         0.116700              0.055560          0.2661   \n",
            "13             0.19240         0.232200              0.111900          0.2809   \n",
            "277            0.11600         0.221000              0.129400          0.2567   \n",
            "134            0.22750         0.396500              0.137900          0.3109   \n",
            "83             0.28170         0.243200              0.184100          0.2311   \n",
            "153            0.08971         0.071160              0.055060          0.2859   \n",
            "327            0.07390         0.007732              0.027960          0.2171   \n",
            "68             0.43650         1.252000              0.175000          0.4228   \n",
            "..                 ...              ...                   ...             ...   \n",
            "486            0.20700         0.243700              0.078280          0.2455   \n",
            "207            0.14860         0.193200              0.109600          0.3275   \n",
            "357            0.10080         0.052850              0.055560          0.2362   \n",
            "409            0.17950         0.137700              0.095320          0.3455   \n",
            "211            0.18800         0.147100              0.069130          0.2535   \n",
            "289            0.09708         0.075290              0.062030          0.3267   \n",
            "11             0.56090         0.396500              0.181000          0.3792   \n",
            "53             0.22970         0.262300              0.132500          0.3021   \n",
            "86             0.19760         0.334900              0.122500          0.3020   \n",
            "266            0.25150         0.191600              0.079260          0.2940   \n",
            "398            0.18790         0.207900              0.055560          0.2590   \n",
            "77             0.56340         0.378600              0.210200          0.3751   \n",
            "125            0.13500         0.081150              0.051040          0.2364   \n",
            "537            0.32510         0.139500              0.130800          0.2803   \n",
            "532            0.15640         0.120600              0.087040          0.2806   \n",
            "472            0.27910         0.315100              0.114700          0.2688   \n",
            "259            0.55640         0.570300              0.201400          0.3512   \n",
            "227            0.36270         0.340200              0.137900          0.2954   \n",
            "476            0.34290         0.251200              0.133900          0.2534   \n",
            "453            0.14780         0.137300              0.106900          0.2606   \n",
            "33             0.65900         0.609100              0.178500          0.3672   \n",
            "65             0.34160         0.302400              0.161400          0.3321   \n",
            "188            0.10000         0.088030              0.043060          0.3200   \n",
            "479            0.44620         0.589700              0.177500          0.3318   \n",
            "509            0.49670         0.591100              0.216300          0.3013   \n",
            "201            0.34200         0.350800              0.193900          0.2928   \n",
            "183            0.16100         0.164800              0.062960          0.1811   \n",
            "285            0.06624         0.005579              0.008772          0.2505   \n",
            "49             0.17110         0.228200              0.128200          0.2871   \n",
            "161            0.20160         0.226400              0.177700          0.2443   \n",
            "\n",
            "     worst fractal dimension  \n",
            "430                  0.11550  \n",
            "48                   0.08301  \n",
            "105                  0.14050  \n",
            "467                  0.07875  \n",
            "547                  0.09479  \n",
            "365                  0.06735  \n",
            "295                  0.06794  \n",
            "567                  0.12400  \n",
            "297                  0.06915  \n",
            "172                  0.10100  \n",
            "506                  0.08839  \n",
            "488                  0.08024  \n",
            "115                  0.08541  \n",
            "466                  0.08174  \n",
            "218                  0.08255  \n",
            "74                   0.07609  \n",
            "461                  0.07427  \n",
            "484                  0.08181  \n",
            "79                   0.07918  \n",
            "226                  0.08269  \n",
            "37                   0.06169  \n",
            "44                   0.09618  \n",
            "324                  0.07961  \n",
            "13                   0.06287  \n",
            "277                  0.05737  \n",
            "134                  0.07610  \n",
            "83                   0.09203  \n",
            "153                  0.06772  \n",
            "327                  0.07037  \n",
            "68                   0.11750  \n",
            "..                       ...  \n",
            "486                  0.06596  \n",
            "207                  0.06469  \n",
            "357                  0.07113  \n",
            "409                  0.06896  \n",
            "211                  0.07993  \n",
            "289                  0.06994  \n",
            "11                   0.10480  \n",
            "53                   0.07987  \n",
            "86                   0.06846  \n",
            "266                  0.07587  \n",
            "398                  0.09158  \n",
            "77                   0.11080  \n",
            "125                  0.07182  \n",
            "537                  0.09970  \n",
            "532                  0.07782  \n",
            "472                  0.08273  \n",
            "259                  0.12040  \n",
            "227                  0.08362  \n",
            "476                  0.07858  \n",
            "453                  0.07810  \n",
            "33                   0.11230  \n",
            "65                   0.08911  \n",
            "188                  0.06576  \n",
            "479                  0.09136  \n",
            "509                  0.10670  \n",
            "201                  0.07867  \n",
            "183                  0.07427  \n",
            "285                  0.06431  \n",
            "49                   0.06917  \n",
            "161                  0.06251  \n",
            "\n",
            "[512 rows x 30 columns]\n"
          ],
          "name": "stdout"
        }
      ]
    },
    {
      "cell_type": "code",
      "metadata": {
        "id": "SuLfXlDwKBSP",
        "colab_type": "code",
        "outputId": "cb45e359-571a-43ff-d0eb-7b7805dc6ffc",
        "colab": {
          "base_uri": "https://localhost:8080/"
        }
      },
      "source": [
        "type(X_train)"
      ],
      "execution_count": 0,
      "outputs": [
        {
          "output_type": "execute_result",
          "data": {
            "text/plain": [
              "pandas.core.frame.DataFrame"
            ]
          },
          "metadata": {
            "tags": []
          },
          "execution_count": 139
        }
      ]
    },
    {
      "cell_type": "code",
      "metadata": {
        "id": "EYKdESi0O4E0",
        "colab_type": "code",
        "outputId": "508a0362-e875-47bc-f7bd-2c88da72239f",
        "colab": {
          "base_uri": "https://localhost:8080/"
        }
      },
      "source": [
        "plt.plot(X_binarised_3_train,'*')"
      ],
      "execution_count": 0,
      "outputs": [
        {
          "output_type": "execute_result",
          "data": {
            "text/plain": [
              "[<matplotlib.lines.Line2D at 0x7f091c2c37b8>]"
            ]
          },
          "metadata": {
            "tags": []
          },
          "execution_count": 140
        },
        {
          "output_type": "display_data",
          "data": {
            "image/png": "[encoded data removed]",
            "text/plain": [
              "<Figure size 576x396 with 1 Axes>"
            ]
          },
          "metadata": {
            "tags": []
          }
        }
      ]
    },
    {
      "cell_type": "code",
      "metadata": {
        "id": "2FVOWLhaPYEq",
        "colab_type": "code",
        "colab": {}
      },
      "source": [
        "X_binarised_train=X_train.apply(pd.cut,bins=2,labels=[1,0])"
      ],
      "execution_count": 0,
      "outputs": []
    },
    {
      "cell_type": "code",
      "metadata": {
        "id": "GOONL41DPs58",
        "colab_type": "code",
        "outputId": "a6e0d707-f6f9-47d9-9ed6-3770fa062758",
        "colab": {
          "base_uri": "https://localhost:8080/"
        }
      },
      "source": [
        "plt.plot(X_binarised_train.T,'*')\n",
        "plt.xticks(rotation='vertical')\n",
        "plt.show()"
      ],
      "execution_count": 0,
      "outputs": [
        {
          "output_type": "display_data",
          "data": {
            "image/png": "[encoded data removed]",
            "text/plain": [
              "<Figure size 576x396 with 1 Axes>"
            ]
          },
          "metadata": {
            "tags": []
          }
        }
      ]
    },
    {
      "cell_type": "code",
      "metadata": {
        "id": "o7XNLcCdP2rB",
        "colab_type": "code",
        "colab": {}
      },
      "source": [
        "X_binarised_test=X_test.apply(pd.cut,bins=2,labels=[1,0])"
      ],
      "execution_count": 0,
      "outputs": []
    },
    {
      "cell_type": "code",
      "metadata": {
        "id": "V3OMaDlZP9Zd",
        "colab_type": "code",
        "outputId": "ee81b404-8345-4a87-d801-eb2f2c590296",
        "colab": {
          "base_uri": "https://localhost:8080/"
        }
      },
      "source": [
        "plt.plot(X_binarised_test.T,'*')\n",
        "plt.xticks(rotation='vertical')\n",
        "plt.show()"
      ],
      "execution_count": 0,
      "outputs": [
        {
          "output_type": "display_data",
          "data": {
            "image/png": "[encoded data removed]",
            "text/plain": [
              "<Figure size 576x396 with 1 Axes>"
            ]
          },
          "metadata": {
            "tags": []
          }
        }
      ]
    },
    {
      "cell_type": "code",
      "metadata": {
        "id": "MZXy0I8xQFVr",
        "colab_type": "code",
        "outputId": "9679beaf-03df-4500-d639-d8219e834822",
        "colab": {
          "base_uri": "https://localhost:8080/"
        }
      },
      "source": [
        "type(X_binarised_test)"
      ],
      "execution_count": 0,
      "outputs": [
        {
          "output_type": "execute_result",
          "data": {
            "text/plain": [
              "pandas.core.frame.DataFrame"
            ]
          },
          "metadata": {
            "tags": []
          },
          "execution_count": 145
        }
      ]
    },
    {
      "cell_type": "code",
      "metadata": {
        "id": "949seBJFQbjJ",
        "colab_type": "code",
        "colab": {}
      },
      "source": [
        "X_binarised_test=X_binarised_test.values\n",
        "X_binarised_train=X_binarised_train.values"
      ],
      "execution_count": 0,
      "outputs": []
    },
    {
      "cell_type": "code",
      "metadata": {
        "id": "DRqNV-WdQkof",
        "colab_type": "code",
        "outputId": "81dcf804-0c07-4096-e608-8db211dcad1e",
        "colab": {
          "base_uri": "https://localhost:8080/"
        }
      },
      "source": [
        "type(X_binarised_test)"
      ],
      "execution_count": 0,
      "outputs": [
        {
          "output_type": "execute_result",
          "data": {
            "text/plain": [
              "numpy.ndarray"
            ]
          },
          "metadata": {
            "tags": []
          },
          "execution_count": 147
        }
      ]
    },
    {
      "cell_type": "markdown",
      "metadata": {
        "id": "LOl4acxFQsFJ",
        "colab_type": "text"
      },
      "source": [
        "#MP Neuron Model"
      ]
    },
    {
      "cell_type": "code",
      "metadata": {
        "id": "H-y6xia0CT2n",
        "colab_type": "code",
        "colab": {}
      },
      "source": [
        "from random import randint"
      ],
      "execution_count": 0,
      "outputs": []
    },
    {
      "cell_type": "code",
      "metadata": {
        "id": "tNyKsaKRQwlg",
        "colab_type": "code",
        "outputId": "c6972e23-c363-4066-ffd7-bed57942eff5",
        "colab": {
          "base_uri": "https://localhost:8080/"
        }
      },
      "source": [
        "b=3\n",
        "i=randint(0,X_binarised_train.shape[0])\n",
        "print('For row',i)\n",
        "if(np.sum(X_binarised_train[i:])>=b):\n",
        "  print('MP Nueuron inference is melignant')\n",
        "else:\n",
        "  print('MP Nueuron inference is benine')\n",
        "if(Y_train[i]==1):\n",
        "  print('Ground truth is melignant')\n",
        "else:\n",
        "  print('Ground truth is benine')"
      ],
      "execution_count": 0,
      "outputs": [
        {
          "output_type": "stream",
          "text": [
            "For row 308\n",
            "MP Nueuron inference is melignant\n",
            "Ground truth is melignant\n"
          ],
          "name": "stdout"
        }
      ]
    },
    {
      "cell_type": "code",
      "metadata": {
        "id": "8oa_P4QeCS69",
        "colab_type": "code",
        "outputId": "4e1b5e55-81cc-412f-c51f-2dc1541794b8",
        "colab": {
          "base_uri": "https://localhost:8080/"
        }
      },
      "source": [
        "b=3\n",
        "Y_pred_train=[]\n",
        "accurate_rows=0\n",
        "for x,y in zip(X_binarised_train,Y_train):\n",
        "  y_pred=(np.sum(x)>=b)\n",
        "  Y_pred_train.append(y_pred)\n",
        "  accurate_rows+=(y==y_pred)\n",
        "print(accurate_rows,accurate_rows/X_binarised_train.shape[0])"
      ],
      "execution_count": 0,
      "outputs": [
        {
          "output_type": "stream",
          "text": [
            "321 0.626953125\n"
          ],
          "name": "stdout"
        }
      ]
    },
    {
      "cell_type": "code",
      "metadata": {
        "id": "lXiaWsjZM-4A",
        "colab_type": "code",
        "outputId": "5972cd8b-c3da-4dca-d5d8-4df647811a4b",
        "colab": {
          "base_uri": "https://localhost:8080/"
        }
      },
      "source": [
        "for b in range(X_binarised_train.shape[1]+1):\n",
        "  Y_pred_train=[]\n",
        "  accurate_rows=0\n",
        "  for x,y in zip(X_binarised_train,Y_train):\n",
        "    y_pred=(np.sum(x)>=b)\n",
        "    Y_pred_train.append(y_pred)\n",
        "    accurate_rows+=(y==y_pred)\n",
        "  print(b,accurate_rows/X_binarised_train.shape[0])"
      ],
      "execution_count": 0,
      "outputs": [
        {
          "output_type": "stream",
          "text": [
            "0 0.626953125\n",
            "1 0.626953125\n",
            "2 0.626953125\n",
            "3 0.626953125\n",
            "4 0.626953125\n",
            "5 0.626953125\n",
            "6 0.626953125\n",
            "7 0.626953125\n",
            "8 0.626953125\n",
            "9 0.626953125\n",
            "10 0.626953125\n",
            "11 0.626953125\n",
            "12 0.626953125\n",
            "13 0.626953125\n",
            "14 0.630859375\n",
            "15 0.6328125\n",
            "16 0.642578125\n",
            "17 0.6484375\n",
            "18 0.65625\n",
            "19 0.6640625\n",
            "20 0.671875\n",
            "21 0.6875\n",
            "22 0.701171875\n",
            "23 0.724609375\n",
            "24 0.755859375\n",
            "25 0.78515625\n",
            "26 0.818359375\n",
            "27 0.845703125\n",
            "28 0.849609375\n",
            "29 0.814453125\n",
            "30 0.759765625\n"
          ],
          "name": "stdout"
        }
      ]
    },
    {
      "cell_type": "code",
      "metadata": {
        "id": "DJ_1Yj0vh6e-",
        "colab_type": "code",
        "colab": {}
      },
      "source": [
        "from sklearn.metrics import accuracy_score"
      ],
      "execution_count": 0,
      "outputs": []
    },
    {
      "cell_type": "code",
      "metadata": {
        "id": "AOCDKTzhilu6",
        "colab_type": "code",
        "outputId": "1078b113-2da0-4f3f-a9f8-56ca83866680",
        "colab": {
          "base_uri": "https://localhost:8080/"
        }
      },
      "source": [
        "b=28\n",
        "Y_pred_test=[]\n",
        "\n",
        "for x in X_binarised_test:\n",
        "  y_pred=(np.sum(x)>=b)\n",
        "  Y_pred_test.append(y_pred)\n",
        "accuracy=accuracy_score(Y_pred_test,Y_test)\n",
        "print(b,accuracy)"
      ],
      "execution_count": 0,
      "outputs": [
        {
          "output_type": "stream",
          "text": [
            "28 0.7894736842105263\n"
          ],
          "name": "stdout"
        }
      ]
    },
    {
      "cell_type": "code",
      "metadata": {
        "id": "mLhajKOeDlKP",
        "colab_type": "code",
        "colab": {}
      },
      "source": [
        "class MPNeuron:\n",
        "  def __init__(self):\n",
        "    self.b=None\n",
        "  def model(self,x):\n",
        "    return(sum(x)>=self.b)\n",
        "  def predict(self,X):\n",
        "    Y=[]\n",
        "    for x in X:\n",
        "      result=self.model(x)\n",
        "      Y.append(result)\n",
        "    return(np.array(Y))\n",
        "  def fit(self,X,Y):\n",
        "    accuracy={}\n",
        "    for b in range(X.shape[1]+1):\n",
        "      self.b=b\n",
        "      Y_pred=self.predict(X)\n",
        "      accuracy[b]=accuracy_score(Y_pred,Y)\n",
        "    best_b=max(accuracy,key=accuracy.get)\n",
        "    self.b=best_b\n",
        "    print('Optimal value of b is',best_b)\n",
        "    print('Highest accuracy is',accuracy[best_b])"
      ],
      "execution_count": 0,
      "outputs": []
    },
    {
      "cell_type": "code",
      "metadata": {
        "id": "TigxDgWyJSEt",
        "colab_type": "code",
        "outputId": "231f55dd-7795-4810-df40-d4c5c8742406",
        "colab": {
          "base_uri": "https://localhost:8080/"
        }
      },
      "source": [
        "mp_neuron=MPNeuron()\n",
        "mp_neuron.fit(X_binarised_train,Y_train)"
      ],
      "execution_count": 0,
      "outputs": [
        {
          "output_type": "stream",
          "text": [
            "Optimal value of b is 28\n",
            "Highest accuracy is 0.849609375\n"
          ],
          "name": "stdout"
        }
      ]
    },
    {
      "cell_type": "code",
      "metadata": {
        "id": "zGwBvZLWKjKt",
        "colab_type": "code",
        "outputId": "e910f424-bf4f-4579-879c-03c3926b39e6",
        "colab": {
          "base_uri": "https://localhost:8080/"
        }
      },
      "source": [
        "Y_test_pred=mp_neuron.predict(X_binarised_test)\n",
        "accuracy_test=accuracy_score(Y_test_pred,Y_test)\n",
        "print(accuracy_test)"
      ],
      "execution_count": 0,
      "outputs": [
        {
          "output_type": "stream",
          "text": [
            "0.7894736842105263\n"
          ],
          "name": "stdout"
        }
      ]
    },
    {
      "cell_type": "markdown",
      "metadata": {
        "id": "Isa1U7uDLUpj",
        "colab_type": "text"
      },
      "source": [
        "#Perceptron Class"
      ]
    },
    {
      "cell_type": "code",
      "metadata": {
        "id": "Vq7Hp5YhLXEZ",
        "colab_type": "code",
        "colab": {}
      },
      "source": [
        "class Perceptron:\n",
        "  def __init__(self):\n",
        "    self.w=None\n",
        "    self.b=None\n",
        "  def model(self,x):\n",
        "    return 1 if (np.dot(self.w,x)>=self.b) else 0\n",
        "  def predict(self,X):\n",
        "    Y=[]\n",
        "    for x in X:\n",
        "      result=self.model(x)\n",
        "      Y.append(result)\n",
        "    return np.array(Y)\n",
        "  def fit(self,X,Y,epochs=1,lr=1):\n",
        "    self.w=np.ones(X.shape[1])\n",
        "    self.b=0\n",
        "    accuracy={}\n",
        "    max_accuracy=0\n",
        "    for i in range(epochs):\n",
        "      for x,y in zip(X,Y):\n",
        "        y_pred=self.model(x)\n",
        "        if y==1 and y_pred==0:\n",
        "          self.w=self.w + lr*x\n",
        "          self.b=self.b + lr*1\n",
        "        elif y==0 and y_pred==1:\n",
        "          self.w=self.w - lr*x\n",
        "          self.b=self.b - lr*1\n",
        "      accuracy[i]=accuracy_score(self.predict(X),Y)\n",
        "      if (accuracy[i]>max_accuracy):\n",
        "        max_accuracy=accuracy[i]\n",
        "        chkptw=self.w\n",
        "        chkptb=self.b\n",
        "    self.w=chkptw\n",
        "    self.b=chkptb\n",
        "    print(max_accuracy)\n",
        "    plt.plot(accuracy.values())\n",
        "    plt.ylim([0,1])\n",
        "    plt.show()"
      ],
      "execution_count": 0,
      "outputs": []
    },
    {
      "cell_type": "code",
      "metadata": {
        "id": "No5BLAg3OgtL",
        "colab_type": "code",
        "colab": {}
      },
      "source": [
        "X_train=X_train.values\n",
        "X_test=X_test.values"
      ],
      "execution_count": 0,
      "outputs": []
    },
    {
      "cell_type": "code",
      "metadata": {
        "id": "PZJ2nQPDOrDH",
        "colab_type": "code",
        "outputId": "fa21b741-7124-4414-8a4e-c98f6ea5df57",
        "colab": {
          "base_uri": "https://localhost:8080/",
          "height": 430
        }
      },
      "source": [
        "perceptron=Perceptron()\n",
        "perceptron.fit(X_train,Y_train,10000,.01)"
      ],
      "execution_count": 0,
      "outputs": [
        {
          "output_type": "error",
          "ename": "TypeError",
          "evalue": "ignored",
          "traceback": [
            "\u001b[0;31m---------------------------------------------------------------------------\u001b[0m",
            "\u001b[0;31mTypeError\u001b[0m                                 Traceback (most recent call last)",
            "\u001b[0;32m<ipython-input-159-084aec46dc54>\u001b[0m in \u001b[0;36m<module>\u001b[0;34m()\u001b[0m\n\u001b[1;32m      1\u001b[0m \u001b[0mperceptron\u001b[0m\u001b[0;34m=\u001b[0m\u001b[0mPerceptron\u001b[0m\u001b[0;34m(\u001b[0m\u001b[0;34m)\u001b[0m\u001b[0;34m\u001b[0m\u001b[0;34m\u001b[0m\u001b[0m\n\u001b[0;32m----> 2\u001b[0;31m \u001b[0mperceptron\u001b[0m\u001b[0;34m.\u001b[0m\u001b[0mfit\u001b[0m\u001b[0;34m(\u001b[0m\u001b[0mX_train\u001b[0m\u001b[0;34m,\u001b[0m\u001b[0mY_train\u001b[0m\u001b[0;34m,\u001b[0m\u001b[0;36m10000\u001b[0m\u001b[0;34m,\u001b[0m\u001b[0;36m.01\u001b[0m\u001b[0;34m)\u001b[0m\u001b[0;34m\u001b[0m\u001b[0;34m\u001b[0m\u001b[0m\n\u001b[0m",
            "\u001b[0;32m<ipython-input-157-f40cc99a90c9>\u001b[0m in \u001b[0;36mfit\u001b[0;34m(self, X, Y, epochs, lr)\u001b[0m\n\u001b[1;32m     18\u001b[0m     \u001b[0;32mfor\u001b[0m \u001b[0mi\u001b[0m \u001b[0;32min\u001b[0m \u001b[0mrange\u001b[0m\u001b[0;34m(\u001b[0m\u001b[0mepochs\u001b[0m\u001b[0;34m)\u001b[0m\u001b[0;34m:\u001b[0m\u001b[0;34m\u001b[0m\u001b[0;34m\u001b[0m\u001b[0m\n\u001b[1;32m     19\u001b[0m       \u001b[0;32mfor\u001b[0m \u001b[0mx\u001b[0m\u001b[0;34m,\u001b[0m\u001b[0my\u001b[0m \u001b[0;32min\u001b[0m \u001b[0mzip\u001b[0m\u001b[0;34m(\u001b[0m\u001b[0mX\u001b[0m\u001b[0;34m,\u001b[0m\u001b[0mY\u001b[0m\u001b[0;34m)\u001b[0m\u001b[0;34m:\u001b[0m\u001b[0;34m\u001b[0m\u001b[0;34m\u001b[0m\u001b[0m\n\u001b[0;32m---> 20\u001b[0;31m         \u001b[0my_pred\u001b[0m\u001b[0;34m=\u001b[0m\u001b[0mself\u001b[0m\u001b[0;34m.\u001b[0m\u001b[0mmodel\u001b[0m\u001b[0;34m(\u001b[0m\u001b[0mx\u001b[0m\u001b[0;34m)\u001b[0m\u001b[0;34m\u001b[0m\u001b[0;34m\u001b[0m\u001b[0m\n\u001b[0m\u001b[1;32m     21\u001b[0m         \u001b[0;32mif\u001b[0m \u001b[0my\u001b[0m\u001b[0;34m==\u001b[0m\u001b[0;36m1\u001b[0m \u001b[0;32mand\u001b[0m \u001b[0my_pred\u001b[0m\u001b[0;34m==\u001b[0m\u001b[0;36m0\u001b[0m\u001b[0;34m:\u001b[0m\u001b[0;34m\u001b[0m\u001b[0;34m\u001b[0m\u001b[0m\n\u001b[1;32m     22\u001b[0m           \u001b[0mself\u001b[0m\u001b[0;34m.\u001b[0m\u001b[0mw\u001b[0m\u001b[0;34m=\u001b[0m\u001b[0mself\u001b[0m\u001b[0;34m.\u001b[0m\u001b[0mw\u001b[0m \u001b[0;34m+\u001b[0m \u001b[0mlr\u001b[0m\u001b[0;34m*\u001b[0m\u001b[0mx\u001b[0m\u001b[0;34m\u001b[0m\u001b[0;34m\u001b[0m\u001b[0m\n",
            "\u001b[0;32m<ipython-input-157-f40cc99a90c9>\u001b[0m in \u001b[0;36mmodel\u001b[0;34m(self, x)\u001b[0m\n\u001b[1;32m      4\u001b[0m     \u001b[0mself\u001b[0m\u001b[0;34m.\u001b[0m\u001b[0mb\u001b[0m\u001b[0;34m=\u001b[0m\u001b[0;32mNone\u001b[0m\u001b[0;34m\u001b[0m\u001b[0;34m\u001b[0m\u001b[0m\n\u001b[1;32m      5\u001b[0m   \u001b[0;32mdef\u001b[0m \u001b[0mmodel\u001b[0m\u001b[0;34m(\u001b[0m\u001b[0mself\u001b[0m\u001b[0;34m,\u001b[0m\u001b[0mx\u001b[0m\u001b[0;34m)\u001b[0m\u001b[0;34m:\u001b[0m\u001b[0;34m\u001b[0m\u001b[0;34m\u001b[0m\u001b[0m\n\u001b[0;32m----> 6\u001b[0;31m     \u001b[0;32mreturn\u001b[0m \u001b[0;36m1\u001b[0m \u001b[0;32mif\u001b[0m \u001b[0;34m(\u001b[0m\u001b[0mnp\u001b[0m\u001b[0;34m.\u001b[0m\u001b[0mdot\u001b[0m\u001b[0;34m(\u001b[0m\u001b[0mself\u001b[0m\u001b[0;34m.\u001b[0m\u001b[0mw\u001b[0m\u001b[0;34m,\u001b[0m\u001b[0mx\u001b[0m\u001b[0;34m)\u001b[0m\u001b[0;34m>=\u001b[0m\u001b[0mself\u001b[0m\u001b[0;34m.\u001b[0m\u001b[0mb\u001b[0m\u001b[0;34m)\u001b[0m \u001b[0;32melse\u001b[0m \u001b[0;36m0\u001b[0m\u001b[0;34m\u001b[0m\u001b[0;34m\u001b[0m\u001b[0m\n\u001b[0m\u001b[1;32m      7\u001b[0m   \u001b[0;32mdef\u001b[0m \u001b[0mpredict\u001b[0m\u001b[0;34m(\u001b[0m\u001b[0mself\u001b[0m\u001b[0;34m,\u001b[0m\u001b[0mX\u001b[0m\u001b[0;34m)\u001b[0m\u001b[0;34m:\u001b[0m\u001b[0;34m\u001b[0m\u001b[0;34m\u001b[0m\u001b[0m\n\u001b[1;32m      8\u001b[0m     \u001b[0mY\u001b[0m\u001b[0;34m=\u001b[0m\u001b[0;34m[\u001b[0m\u001b[0;34m]\u001b[0m\u001b[0;34m\u001b[0m\u001b[0;34m\u001b[0m\u001b[0m\n",
            "\u001b[0;31mTypeError\u001b[0m: '>=' not supported between instances of 'float' and 'NoneType'"
          ]
        }
      ]
    },
    {
      "cell_type": "code",
      "metadata": {
        "id": "1dR30LXEPWTK",
        "colab_type": "code",
        "colab": {}
      },
      "source": [
        "plt.plot(perceptron.w)\n",
        "plt.show()"
      ],
      "execution_count": 0,
      "outputs": []
    },
    {
      "cell_type": "code",
      "metadata": {
        "id": "fl6TRiqVPdyf",
        "colab_type": "code",
        "colab": {}
      },
      "source": [
        "Y_pred_train=perceptron.predict(X_train)\n",
        "print(accuracy_score(Y_pred_train,Y_train))"
      ],
      "execution_count": 0,
      "outputs": []
    },
    {
      "cell_type": "code",
      "metadata": {
        "id": "OwpGcHMTRdAw",
        "colab_type": "code",
        "colab": {}
      },
      "source": [
        "Y_pred_test=perceptron.predict(X_test)\n",
        "print(accuracy_score(Y_pred_test,Y_test))"
      ],
      "execution_count": 0,
      "outputs": []
    },
    {
      "cell_type": "code",
      "metadata": {
        "id": "-vpG4WtJYR0J",
        "colab_type": "code",
        "colab": {}
      },
      "source": [
        "plt.plot(perceptron.w)\n",
        "plt.show()"
      ],
      "execution_count": 0,
      "outputs": []
    }
  ]
}